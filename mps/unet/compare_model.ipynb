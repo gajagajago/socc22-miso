{
 "cells": [
  {
   "cell_type": "code",
   "execution_count": 1,
   "id": "5649f856",
   "metadata": {},
   "outputs": [],
   "source": [
    "from datasets import load_dataset\n",
    "from tensorflow import keras\n",
    "import time\n",
    "import json\n",
    "import pandas as pd\n",
    "import glob\n",
    "import pdb\n",
    "import numpy as np\n",
    "import tensorflow as tf\n",
    "import os\n",
    "from unet_utils import *\n",
    "import matplotlib.pyplot as plt\n",
    "from pathlib import Path"
   ]
  },
  {
   "cell_type": "code",
   "execution_count": 9,
   "id": "23dc3743",
   "metadata": {},
   "outputs": [],
   "source": [
    "params={\n",
    "    'start_neurons'   :8,      # Controls size of hidden layers in CNN, higher = more complexity \n",
    "    'activation'      :'relu',  # Activation used throughout the U-Net,  see https://www.tensorflow.org/api_docs/python/tf/keras/activations\n",
    "    'loss'            :'mae',   # Either 'mae' or 'mse', or others as https://www.tensorflow.org/api_docs/python/tf/keras/losses\n",
    "    'loss_weights'    : 1,    # Scale for loss.  Recommend squaring this if using MSE\n",
    "    'opt'             :tf.keras.optimizers.Adam,  # optimizer, see https://www.tensorflow.org/api_docs/python/tf/keras/optimizers\n",
    "    'learning_rate'   :0.001,   # Learning rate for optimizer\n",
    "    'num_epochs'      :200,       # Number of epochs to train for\n",
    "    'batch'           :8\n",
    "}\n",
    "opt=params['opt'](learning_rate=params['learning_rate'])"
   ]
  },
  {
   "cell_type": "code",
   "execution_count": 10,
   "id": "7654b4a5",
   "metadata": {},
   "outputs": [],
   "source": [
    "model1 = padding_model() \n",
    "model1.load_weights('training_dir/padding_unet.hdf5')"
   ]
  },
  {
   "cell_type": "code",
   "execution_count": 11,
   "id": "8519eb56",
   "metadata": {},
   "outputs": [],
   "source": [
    "model2 = padding_model() \n",
    "model2.load_weights('training_dir/padding_unet_batch8.hdf5')\n",
    "model3 = padding_model() \n",
    "model3.load_weights('training_dir/padding_unet_batch8_mse.hdf5')"
   ]
  },
  {
   "cell_type": "code",
   "execution_count": 12,
   "id": "c72f7285",
   "metadata": {},
   "outputs": [],
   "source": [
    "model1.compile(optimizer=opt, loss='mae')\n",
    "model2.compile(optimizer=opt, loss='mae')\n",
    "model3.compile(optimizer=opt, loss='mae')"
   ]
  },
  {
   "cell_type": "code",
   "execution_count": 14,
   "id": "7a6946b8",
   "metadata": {
    "scrolled": false
   },
   "outputs": [
    {
     "data": {
      "text/plain": [
       "'mae'"
      ]
     },
     "execution_count": 14,
     "metadata": {},
     "output_type": "execute_result"
    }
   ],
   "source": [
    "model1.loss"
   ]
  },
  {
   "cell_type": "code",
   "execution_count": 15,
   "id": "e80b37ba",
   "metadata": {},
   "outputs": [],
   "source": [
    "X_data = np.load('input_data.npy')\n",
    "X_data = np.expand_dims(X_data, axis=-1)\n",
    "Y_data = np.load('target_data.npy')\n",
    "Y_data = np.expand_dims(Y_data, axis=-1)\n",
    "tensorslice = tf.data.Dataset.from_tensor_slices((X_data,Y_data)).shuffle(buffer_size=len(Y_data),reshuffle_each_iteration=True).batch(params['batch'])\n",
    "train_data = tensorslice.skip(int(len(tensorslice) * 0.25))\n",
    "test_data = tensorslice.take(int(len(tensorslice) * 0.25))"
   ]
  },
  {
   "cell_type": "code",
   "execution_count": 16,
   "id": "ea4c7c36",
   "metadata": {},
   "outputs": [
    {
     "name": "stderr",
     "output_type": "stream",
     "text": [
      "2022-02-24 14:29:20.441543: I tensorflow/compiler/mlir/mlir_graph_optimization_pass.cc:185] None of the MLIR Optimization Passes are enabled (registered 2)\n",
      "2022-02-24 14:29:21.320444: I tensorflow/stream_executor/cuda/cuda_dnn.cc:369] Loaded cuDNN version 8100\n"
     ]
    },
    {
     "name": "stdout",
     "output_type": "stream",
     "text": [
      "437/437 [==============================] - 4s 2ms/step - loss: 0.0172\n"
     ]
    }
   ],
   "source": [
    "result1 = model1.evaluate(test_data, workers=8)"
   ]
  },
  {
   "cell_type": "code",
   "execution_count": 17,
   "id": "3735cb33",
   "metadata": {},
   "outputs": [
    {
     "data": {
      "text/plain": [
       "0.01724044419825077"
      ]
     },
     "execution_count": 17,
     "metadata": {},
     "output_type": "execute_result"
    }
   ],
   "source": [
    "result1"
   ]
  },
  {
   "cell_type": "code",
   "execution_count": 18,
   "id": "24885582",
   "metadata": {},
   "outputs": [
    {
     "name": "stdout",
     "output_type": "stream",
     "text": [
      "437/437 [==============================] - 1s 2ms/step - loss: 0.0184\n"
     ]
    },
    {
     "data": {
      "text/plain": [
       "0.01841788925230503"
      ]
     },
     "execution_count": 18,
     "metadata": {},
     "output_type": "execute_result"
    }
   ],
   "source": [
    "result2 = model2.evaluate(test_data, workers=8)\n",
    "result2"
   ]
  },
  {
   "cell_type": "code",
   "execution_count": 19,
   "id": "c766cac5",
   "metadata": {},
   "outputs": [
    {
     "name": "stdout",
     "output_type": "stream",
     "text": [
      "437/437 [==============================] - 1s 2ms/step - loss: 0.0183\n"
     ]
    },
    {
     "data": {
      "text/plain": [
       "0.01829533465206623"
      ]
     },
     "execution_count": 19,
     "metadata": {},
     "output_type": "execute_result"
    }
   ],
   "source": [
    "result3 = model2.evaluate(test_data, workers=8)\n",
    "result3"
   ]
  },
  {
   "cell_type": "code",
   "execution_count": null,
   "id": "b7db4ac3",
   "metadata": {},
   "outputs": [],
   "source": []
  }
 ],
 "metadata": {
  "kernelspec": {
   "display_name": "tf2",
   "language": "python",
   "name": "tf2"
  },
  "language_info": {
   "codemirror_mode": {
    "name": "ipython",
    "version": 3
   },
   "file_extension": ".py",
   "mimetype": "text/x-python",
   "name": "python",
   "nbconvert_exporter": "python",
   "pygments_lexer": "ipython3",
   "version": "3.7.11"
  }
 },
 "nbformat": 4,
 "nbformat_minor": 5
}
