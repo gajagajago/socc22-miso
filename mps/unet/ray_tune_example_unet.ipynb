{
 "cells": [
  {
   "cell_type": "code",
   "execution_count": 1,
   "id": "517ee811",
   "metadata": {},
   "outputs": [],
   "source": [
    "import argparse\n",
    "import os\n",
    "\n",
    "from tensorflow.keras.datasets import mnist\n",
    "\n",
    "import ray\n",
    "from ray import tune\n",
    "from ray.tune.schedulers import AsyncHyperBandScheduler\n",
    "from ray.tune.integration.keras import TuneReportCallback\n",
    "from unet_tuning import train_unet\n",
    "import tensorflow as tf "
   ]
  },
  {
   "cell_type": "code",
   "execution_count": 4,
   "id": "dfac433f",
   "metadata": {},
   "outputs": [],
   "source": [
    "config = {'start_neurons': 8, \n",
    "         'activation': tf.keras.activations.relu,\n",
    "         'dropout': True,\n",
    "         'lr': 0.001,\n",
    "         'amsgrad': True,\n",
    "         'loss_weights': 0.05,\n",
    "         'lr_reduce': True,\n",
    "         'batch': 64}"
   ]
  },
  {
   "cell_type": "code",
   "execution_count": null,
   "id": "ef941f75",
   "metadata": {},
   "outputs": [
    {
     "name": "stderr",
     "output_type": "stream",
     "text": [
      "2022-02-27 17:16:17.066600: I tensorflow/compiler/mlir/mlir_graph_optimization_pass.cc:185] None of the MLIR Optimization Passes are enabled (registered 2)\n",
      "2022-02-27 17:16:17.737897: I tensorflow/stream_executor/cuda/cuda_dnn.cc:369] Loaded cuDNN version 8100\n",
      "Session not detected. You should not be calling `report` outside `tune.run` or while using the class API. \n",
      "  File \"/home/li.baol/anaconda3/envs/tf2/lib/python3.7/runpy.py\", line 193, in _run_module_as_main\n",
      "    \"__main__\", mod_spec)\n",
      "  File \"/home/li.baol/anaconda3/envs/tf2/lib/python3.7/runpy.py\", line 85, in _run_code\n",
      "    exec(code, run_globals)\n",
      "  File \"/home/li.baol/anaconda3/envs/tf2/lib/python3.7/site-packages/ipykernel_launcher.py\", line 16, in <module>\n",
      "    app.launch_new_instance()\n",
      "  File \"/home/li.baol/anaconda3/envs/tf2/lib/python3.7/site-packages/traitlets/config/application.py\", line 846, in launch_instance\n",
      "    app.start()\n",
      "  File \"/home/li.baol/anaconda3/envs/tf2/lib/python3.7/site-packages/ipykernel/kernelapp.py\", line 677, in start\n",
      "    self.io_loop.start()\n",
      "  File \"/home/li.baol/anaconda3/envs/tf2/lib/python3.7/site-packages/tornado/platform/asyncio.py\", line 199, in start\n",
      "    self.asyncio_loop.run_forever()\n",
      "  File \"/home/li.baol/anaconda3/envs/tf2/lib/python3.7/asyncio/base_events.py\", line 541, in run_forever\n",
      "    self._run_once()\n",
      "  File \"/home/li.baol/anaconda3/envs/tf2/lib/python3.7/asyncio/base_events.py\", line 1786, in _run_once\n",
      "    handle._run()\n",
      "  File \"/home/li.baol/anaconda3/envs/tf2/lib/python3.7/asyncio/events.py\", line 88, in _run\n",
      "    self._context.run(self._callback, *self._args)\n",
      "  File \"/home/li.baol/anaconda3/envs/tf2/lib/python3.7/site-packages/ipykernel/kernelbase.py\", line 457, in dispatch_queue\n",
      "    await self.process_one()\n",
      "  File \"/home/li.baol/anaconda3/envs/tf2/lib/python3.7/site-packages/ipykernel/kernelbase.py\", line 446, in process_one\n",
      "    await dispatch(*args)\n",
      "  File \"/home/li.baol/anaconda3/envs/tf2/lib/python3.7/site-packages/ipykernel/kernelbase.py\", line 353, in dispatch_shell\n",
      "    await result\n",
      "  File \"/home/li.baol/anaconda3/envs/tf2/lib/python3.7/site-packages/ipykernel/kernelbase.py\", line 648, in execute_request\n",
      "    reply_content = await reply_content\n",
      "  File \"/home/li.baol/anaconda3/envs/tf2/lib/python3.7/site-packages/ipykernel/ipkernel.py\", line 353, in do_execute\n",
      "    res = shell.run_cell(code, store_history=store_history, silent=silent)\n",
      "  File \"/home/li.baol/anaconda3/envs/tf2/lib/python3.7/site-packages/ipykernel/zmqshell.py\", line 533, in run_cell\n",
      "    return super(ZMQInteractiveShell, self).run_cell(*args, **kwargs)\n",
      "  File \"/home/li.baol/anaconda3/envs/tf2/lib/python3.7/site-packages/IPython/core/interactiveshell.py\", line 2915, in run_cell\n",
      "    raw_cell, store_history, silent, shell_futures)\n",
      "  File \"/home/li.baol/anaconda3/envs/tf2/lib/python3.7/site-packages/IPython/core/interactiveshell.py\", line 2960, in _run_cell\n",
      "    return runner(coro)\n",
      "  File \"/home/li.baol/anaconda3/envs/tf2/lib/python3.7/site-packages/IPython/core/async_helpers.py\", line 78, in _pseudo_sync_runner\n",
      "    coro.send(None)\n",
      "  File \"/home/li.baol/anaconda3/envs/tf2/lib/python3.7/site-packages/IPython/core/interactiveshell.py\", line 3186, in run_cell_async\n",
      "    interactivity=interactivity, compiler=compiler, result=result)\n",
      "  File \"/home/li.baol/anaconda3/envs/tf2/lib/python3.7/site-packages/IPython/core/interactiveshell.py\", line 3377, in run_ast_nodes\n",
      "    if (await self.run_code(code, result,  async_=asy)):\n",
      "  File \"/home/li.baol/anaconda3/envs/tf2/lib/python3.7/site-packages/IPython/core/interactiveshell.py\", line 3457, in run_code\n",
      "    exec(code_obj, self.user_global_ns, self.user_ns)\n",
      "  File \"/tmp/ipykernel_1335/4284703030.py\", line 1, in <module>\n",
      "    train_unet(config)\n",
      "  File \"/home/li.baol/GIT/mig_exp/mps/unet/unet_tuning.py\", line 50, in train_unet\n",
      "    callbacks=callbacks\n",
      "  File \"/home/li.baol/anaconda3/envs/tf2/lib/python3.7/site-packages/keras/engine/training.py\", line 1230, in fit\n",
      "    callbacks.on_epoch_end(epoch, epoch_logs)\n",
      "  File \"/home/li.baol/anaconda3/envs/tf2/lib/python3.7/site-packages/keras/callbacks.py\", line 413, in on_epoch_end\n",
      "    callback.on_epoch_end(epoch, logs)\n",
      "  File \"/home/li.baol/anaconda3/envs/tf2/lib/python3.7/site-packages/ray/tune/integration/keras.py\", line 59, in on_epoch_end\n",
      "    self._handle(logs, \"epoch_end\")\n",
      "  File \"/home/li.baol/anaconda3/envs/tf2/lib/python3.7/site-packages/ray/tune/integration/keras.py\", line 164, in _handle\n",
      "    tune.report(**report_dict)\n",
      "\n"
     ]
    }
   ],
   "source": [
    "train_unet(config)"
   ]
  },
  {
   "cell_type": "code",
   "execution_count": null,
   "id": "3c9f683f",
   "metadata": {},
   "outputs": [],
   "source": []
  }
 ],
 "metadata": {
  "kernelspec": {
   "display_name": "tf2",
   "language": "python",
   "name": "tf2"
  },
  "language_info": {
   "codemirror_mode": {
    "name": "ipython",
    "version": 3
   },
   "file_extension": ".py",
   "mimetype": "text/x-python",
   "name": "python",
   "nbconvert_exporter": "python",
   "pygments_lexer": "ipython3",
   "version": "3.7.11"
  }
 },
 "nbformat": 4,
 "nbformat_minor": 5
}
