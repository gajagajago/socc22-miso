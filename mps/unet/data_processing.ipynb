{
 "cells": [
  {
   "cell_type": "code",
   "execution_count": 1,
   "id": "retired-uncertainty",
   "metadata": {},
   "outputs": [],
   "source": [
    "from datasets import load_dataset\n",
    "from tensorflow import keras\n",
    "import time\n",
    "import json\n",
    "import pandas as pd\n",
    "import glob\n",
    "import pdb\n",
    "import numpy as np\n",
    "import tensorflow as tf\n",
    "import os"
   ]
  },
  {
   "cell_type": "code",
   "execution_count": 2,
   "id": "lined-promise",
   "metadata": {},
   "outputs": [],
   "source": [
    "active_range = 7\n",
    "repeat_range = 400\n",
    "input_dir = '../models/logs'\n",
    "shuffle_time = 4\n",
    "username = os.environ.get('USER') \n",
    "label_path = f'/scratch/{username}/mps_collect'\n",
    "mig_path = '../models/logs/mig'\n",
    "mig_slices = ['7g.40gb', '4g.20gb', '3g.20gb']"
   ]
  },
  {
   "cell_type": "code",
   "execution_count": 3,
   "id": "0731a5f0",
   "metadata": {},
   "outputs": [],
   "source": [
    "target_data = []\n",
    "input_data = []\n",
    "\n",
    "for i in range(1, active_range+1):\n",
    "    for j in range(repeat_range):\n",
    "        record = glob.glob(f'{input_dir}/active{i}_repeat{j}_*.csv')[0]\n",
    "        data = pd.read_csv(record, header=None).to_numpy()\n",
    "        \n",
    "        ########### freature data ############\n",
    "        norm_data = np.zeros(data.shape)\n",
    "        for col in range(data.shape[1]):            \n",
    "            norm_data[:,col] = np.round(data[:,col] / data[:,col].max(), 4)\n",
    "        input_data.append(norm_data)\n",
    "        \n",
    "        ########### create label data ###########\n",
    "        label_data = np.zeros(data.shape)\n",
    "        model_str = record.split(f'_repeat{j}_')[1].split('.')[0]\n",
    "        for col in range(data.shape[1]):\n",
    "            model = glob.glob(f'{label_path}/active{i}_repeat{j}/{model_str}{col}_100pct*.json')[0]\n",
    "            model = model.split('_100pct_')[1].split('.')[0] # mobilenet_train64\n",
    "            \n",
    "            slice_time = []\n",
    "            for mig_slice in mig_slices:\n",
    "                filename = f'{mig_path}/{mig_slice}_{model}.json'\n",
    "#                 if os.path.isfile(filename):\n",
    "                with open(filename) as f:\n",
    "                    lat = json.load(f)\n",
    "                mean_lat = []\n",
    "                for key, val in lat.items():\n",
    "                    mean_lat += val\n",
    "                mean_lat = mean_lat[1:] # remove 1st element\n",
    "                mean_lat = round(np.mean(mean_lat),4)\n",
    "                slice_time.append(mean_lat)\n",
    "            slice_time = np.asarray(slice_time)            \n",
    "            slice_time = np.round(slice_time / slice_time.max(),4)            \n",
    "            label_data[:,col] = slice_time\n",
    "        target_data.append(label_data)                    \n",
    "        \n",
    "        for shuffle in range(shuffle_time):\n",
    "            new_index = np.random.permutation(norm_data.shape[1])\n",
    "            input_data.append(norm_data[:, new_index])\n",
    "            target_data.append(label_data[:, new_index])\n",
    "        \n",
    "input_data = np.asarray(input_data)\n",
    "target_data = np.asarray(target_data)"
   ]
  },
  {
   "cell_type": "code",
   "execution_count": 5,
   "id": "electoral-caribbean",
   "metadata": {},
   "outputs": [
    {
     "data": {
      "text/plain": [
       "((14000, 3, 7), (14000, 3, 7))"
      ]
     },
     "execution_count": 5,
     "metadata": {},
     "output_type": "execute_result"
    }
   ],
   "source": [
    "input_data.shape, target_data.shape"
   ]
  },
  {
   "cell_type": "code",
   "execution_count": 6,
   "id": "eb9c0da4",
   "metadata": {},
   "outputs": [],
   "source": [
    "if os.path.isfile('input_data.npy'):\n",
    "    os.remove('input_data.npy')\n",
    "if os.path.isfile('target_data.npy'):\n",
    "    os.remove('target_data.npy')\n",
    "np.save('input_data.npy', input_data)\n",
    "np.save('target_data.npy', target_data)"
   ]
  },
  {
   "cell_type": "code",
   "execution_count": 3,
   "id": "b65cb055",
   "metadata": {},
   "outputs": [
    {
     "data": {
      "text/plain": [
       "(0.0879, 1.0)"
      ]
     },
     "execution_count": 3,
     "metadata": {},
     "output_type": "execute_result"
    }
   ],
   "source": [
    "load = np.load('input_data.npy')\n",
    "load.min(), load.max()\n"
   ]
  },
  {
   "cell_type": "code",
   "execution_count": 7,
   "id": "e6797b19",
   "metadata": {},
   "outputs": [],
   "source": [
    "target = np.load('target_data.npy')"
   ]
  },
  {
   "cell_type": "code",
   "execution_count": 8,
   "id": "9ef907df",
   "metadata": {},
   "outputs": [
    {
     "data": {
      "text/plain": [
       "(array([[0.8667, 1.    , 1.    , 1.    , 1.    , 1.    , 1.    ],\n",
       "        [0.8375, 1.    , 1.    , 1.    , 1.    , 1.    , 1.    ],\n",
       "        [1.    , 1.    , 0.8889, 1.    , 1.    , 1.    , 1.    ]]),\n",
       " array([[0.9744, 0.8889, 0.8889, 0.8889, 0.8889, 0.8889, 0.8889],\n",
       "        [0.9897, 1.    , 1.    , 1.    , 1.    , 1.    , 1.    ],\n",
       "        [1.    , 0.8889, 0.8889, 0.8889, 0.8889, 0.8889, 0.8889]]))"
      ]
     },
     "execution_count": 8,
     "metadata": {},
     "output_type": "execute_result"
    }
   ],
   "source": [
    "load[0], target[0]"
   ]
  },
  {
   "cell_type": "code",
   "execution_count": 8,
   "id": "anonymous-telescope",
   "metadata": {},
   "outputs": [
    {
     "name": "stderr",
     "output_type": "stream",
     "text": [
      "2022-02-22 16:50:01.482277: I tensorflow/core/platform/cpu_feature_guard.cc:142] This TensorFlow binary is optimized with oneAPI Deep Neural Network Library (oneDNN) to use the following CPU instructions in performance-critical operations:  AVX2 FMA\n",
      "To enable them in other operations, rebuild TensorFlow with the appropriate compiler flags.\n",
      "2022-02-22 16:50:02.019425: I tensorflow/core/common_runtime/gpu/gpu_device.cc:1510] Created device /job:localhost/replica:0/task:0/device:GPU:0 with 10801 MB memory:  -> device: 0, name: Tesla K80, pci bus id: 0000:05:00.0, compute capability: 3.7\n"
     ]
    }
   ],
   "source": [
    "train_dataset = tf.data.Dataset.from_tensor_slices((input_data,target_data))"
   ]
  },
  {
   "cell_type": "code",
   "execution_count": 9,
   "id": "electoral-message",
   "metadata": {},
   "outputs": [
    {
     "data": {
      "text/plain": [
       "<TensorSliceDataset shapes: ((3, 7), (3, 7)), types: (tf.float64, tf.float64)>"
      ]
     },
     "execution_count": 9,
     "metadata": {},
     "output_type": "execute_result"
    }
   ],
   "source": [
    "train_dataset"
   ]
  },
  {
   "cell_type": "code",
   "execution_count": 10,
   "id": "departmental-cooper",
   "metadata": {},
   "outputs": [
    {
     "data": {
      "text/plain": [
       "<TensorSliceDataset shapes: ((3, 7), (3, 7)), types: (tf.float64, tf.float64)>"
      ]
     },
     "execution_count": 10,
     "metadata": {},
     "output_type": "execute_result"
    }
   ],
   "source": [
    "train_dataset.shuffle(100).batch(8)\n",
    "train_dataset"
   ]
  },
  {
   "cell_type": "code",
   "execution_count": 11,
   "id": "specified-collins",
   "metadata": {},
   "outputs": [
    {
     "data": {
      "text/plain": [
       "<tf.Tensor: shape=(), dtype=int64, numpy=14000>"
      ]
     },
     "execution_count": 11,
     "metadata": {},
     "output_type": "execute_result"
    }
   ],
   "source": [
    "tf.data.experimental.cardinality(train_dataset)"
   ]
  },
  {
   "cell_type": "code",
   "execution_count": null,
   "id": "intermediate-watershed",
   "metadata": {},
   "outputs": [],
   "source": []
  }
 ],
 "metadata": {
  "kernelspec": {
   "display_name": "tf2",
   "language": "python",
   "name": "tf2"
  },
  "language_info": {
   "codemirror_mode": {
    "name": "ipython",
    "version": 3
   },
   "file_extension": ".py",
   "mimetype": "text/x-python",
   "name": "python",
   "nbconvert_exporter": "python",
   "pygments_lexer": "ipython3",
   "version": "3.7.11"
  }
 },
 "nbformat": 4,
 "nbformat_minor": 5
}
