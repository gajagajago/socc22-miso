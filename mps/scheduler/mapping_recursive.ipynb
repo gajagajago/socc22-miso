{
 "cells": [
  {
   "cell_type": "code",
   "execution_count": 1,
   "id": "1cc402b4",
   "metadata": {},
   "outputs": [],
   "source": [
    "import json\n",
    "import numpy as np\n",
    "import pdb\n",
    "import itertools\n",
    "import ast"
   ]
  },
  {
   "cell_type": "code",
   "execution_count": 3,
   "id": "bf1f119a",
   "metadata": {},
   "outputs": [],
   "source": [
    "num_gpu = 8\n",
    "config = {0: [7],\n",
    "          1: [4,2,1],\n",
    "          2: [4,1,1,1],\n",
    "          3: [3,3],\n",
    "          4: [3,2,1],\n",
    "          5: [3,1,1,1],\n",
    "          6: [2,2,3],\n",
    "          7: [2,1,1,3],\n",
    "          8: [1,1,1,1,3],\n",
    "          9:[2,2,2,1],\n",
    "          10:[2,1,1,2,1],\n",
    "          11:[2,1,1,1,1,1],\n",
    "          12:[1,1,1,1,1,1,1]\n",
    "        }\n",
    "\n",
    "# with open('partition_code.json', 'w') as f:\n",
    "#     json.dump(config, f, indent=4)\n",
    "    \n",
    "def mapping(seq):\n",
    "    map_dict = {7: 0, 4: 0, 3: 0, 2: 0, 1: 0}\n",
    "    for s in seq:\n",
    "        c = config[s]\n",
    "        for item in c:\n",
    "            map_dict[item] += 1\n",
    "    return str(map_dict)    "
   ]
  },
  {
   "cell_type": "markdown",
   "id": "a34f2667",
   "metadata": {},
   "source": [
    "### 1 GPU base case"
   ]
  },
  {
   "cell_type": "code",
   "execution_count": 17,
   "id": "09d17918",
   "metadata": {},
   "outputs": [],
   "source": [
    "def map_nonrecurse(num_gpu):\n",
    "    mapped_dict = {}\n",
    "    gen = itertools.product(range(len(config)),repeat=num_gpu)\n",
    "\n",
    "    for seq in gen:\n",
    "        mapping_str = mapping(seq)\n",
    "        if mapping_str not in mapped_dict:\n",
    "            mapped_dict[mapping_str] = str(list(seq))\n",
    "    return mapped_dict"
   ]
  },
  {
   "cell_type": "code",
   "execution_count": 18,
   "id": "5ea00f4d",
   "metadata": {},
   "outputs": [],
   "source": [
    "mapped_1gpu = map_nonrecurse(1)\n",
    "with open('mapped_1gpu.json', 'w') as f:\n",
    "    json.dump(mapped_1gpu, f, indent=4)"
   ]
  },
  {
   "cell_type": "code",
   "execution_count": 19,
   "id": "31bd367b",
   "metadata": {},
   "outputs": [],
   "source": [
    "def map_recurse(num_gpu):\n",
    "    if num_gpu == 1:\n",
    "        with open('mapped_1gpu.json') as f:\n",
    "            map_space = json.load(f)\n",
    "        return map_space\n",
    "    else:\n",
    "        prev_space = map_recurse(num_gpu-1)\n",
    "        map_space = {}\n",
    "        for key, space_actual in prev_space.items():       \n",
    "            for config_key, partition in config.items(): # [4,2,1]\n",
    "                key_dict = ast.literal_eval(key) # {7: 1, 4: 0, 3: 0, 2: 0, 1: 0}\n",
    "                space_actual_list = ast.literal_eval(space_actual)\n",
    "                for mig_slice in partition: # 4\n",
    "                    key_dict[mig_slice] += 1\n",
    "                # key_dict = {7: 1, 4: 1, 3: 0, 2: 1, 1: 1}\n",
    "                if str(key_dict) not in map_space:\n",
    "                    space_actual_list.append(config_key)\n",
    "                    map_space[str(key_dict)] = str(space_actual_list)\n",
    "                \n",
    "        return map_space"
   ]
  },
  {
   "cell_type": "code",
   "execution_count": 20,
   "id": "26c33634",
   "metadata": {},
   "outputs": [
    {
     "data": {
      "text/plain": [
       "{'{7: 2, 4: 0, 3: 0, 2: 0, 1: 0}': '[0, 0]',\n",
       " '{7: 1, 4: 1, 3: 0, 2: 1, 1: 1}': '[0, 1]',\n",
       " '{7: 1, 4: 1, 3: 0, 2: 0, 1: 3}': '[0, 2]',\n",
       " '{7: 1, 4: 0, 3: 2, 2: 0, 1: 0}': '[0, 3]',\n",
       " '{7: 1, 4: 0, 3: 1, 2: 1, 1: 1}': '[0, 4]',\n",
       " '{7: 1, 4: 0, 3: 1, 2: 0, 1: 3}': '[0, 5]',\n",
       " '{7: 1, 4: 0, 3: 1, 2: 2, 1: 0}': '[0, 6]',\n",
       " '{7: 1, 4: 0, 3: 1, 2: 1, 1: 2}': '[0, 7]',\n",
       " '{7: 1, 4: 0, 3: 1, 2: 0, 1: 4}': '[0, 8]',\n",
       " '{7: 1, 4: 0, 3: 0, 2: 3, 1: 1}': '[0, 9]',\n",
       " '{7: 1, 4: 0, 3: 0, 2: 2, 1: 3}': '[0, 10]',\n",
       " '{7: 1, 4: 0, 3: 0, 2: 1, 1: 5}': '[0, 11]',\n",
       " '{7: 1, 4: 0, 3: 0, 2: 0, 1: 7}': '[0, 12]',\n",
       " '{7: 0, 4: 2, 3: 0, 2: 2, 1: 2}': '[1, 1]',\n",
       " '{7: 0, 4: 2, 3: 0, 2: 1, 1: 4}': '[1, 2]',\n",
       " '{7: 0, 4: 1, 3: 2, 2: 1, 1: 1}': '[1, 3]',\n",
       " '{7: 0, 4: 1, 3: 1, 2: 2, 1: 2}': '[1, 4]',\n",
       " '{7: 0, 4: 1, 3: 1, 2: 1, 1: 4}': '[1, 5]',\n",
       " '{7: 0, 4: 1, 3: 1, 2: 3, 1: 1}': '[1, 6]',\n",
       " '{7: 0, 4: 1, 3: 1, 2: 2, 1: 3}': '[1, 7]',\n",
       " '{7: 0, 4: 1, 3: 1, 2: 1, 1: 5}': '[1, 8]',\n",
       " '{7: 0, 4: 1, 3: 0, 2: 4, 1: 2}': '[1, 9]',\n",
       " '{7: 0, 4: 1, 3: 0, 2: 3, 1: 4}': '[1, 10]',\n",
       " '{7: 0, 4: 1, 3: 0, 2: 2, 1: 6}': '[1, 11]',\n",
       " '{7: 0, 4: 1, 3: 0, 2: 1, 1: 8}': '[1, 12]',\n",
       " '{7: 0, 4: 2, 3: 0, 2: 0, 1: 6}': '[2, 2]',\n",
       " '{7: 0, 4: 1, 3: 2, 2: 0, 1: 3}': '[2, 3]',\n",
       " '{7: 0, 4: 1, 3: 1, 2: 0, 1: 6}': '[2, 5]',\n",
       " '{7: 0, 4: 1, 3: 1, 2: 0, 1: 7}': '[2, 8]',\n",
       " '{7: 0, 4: 1, 3: 0, 2: 0, 1: 10}': '[2, 12]',\n",
       " '{7: 0, 4: 0, 3: 4, 2: 0, 1: 0}': '[3, 3]',\n",
       " '{7: 0, 4: 0, 3: 3, 2: 1, 1: 1}': '[3, 4]',\n",
       " '{7: 0, 4: 0, 3: 3, 2: 0, 1: 3}': '[3, 5]',\n",
       " '{7: 0, 4: 0, 3: 3, 2: 2, 1: 0}': '[3, 6]',\n",
       " '{7: 0, 4: 0, 3: 3, 2: 1, 1: 2}': '[3, 7]',\n",
       " '{7: 0, 4: 0, 3: 3, 2: 0, 1: 4}': '[3, 8]',\n",
       " '{7: 0, 4: 0, 3: 2, 2: 3, 1: 1}': '[3, 9]',\n",
       " '{7: 0, 4: 0, 3: 2, 2: 2, 1: 3}': '[3, 10]',\n",
       " '{7: 0, 4: 0, 3: 2, 2: 1, 1: 5}': '[3, 11]',\n",
       " '{7: 0, 4: 0, 3: 2, 2: 0, 1: 7}': '[3, 12]',\n",
       " '{7: 0, 4: 0, 3: 2, 2: 2, 1: 2}': '[4, 4]',\n",
       " '{7: 0, 4: 0, 3: 2, 2: 1, 1: 4}': '[4, 5]',\n",
       " '{7: 0, 4: 0, 3: 1, 2: 4, 1: 2}': '[4, 9]',\n",
       " '{7: 0, 4: 0, 3: 1, 2: 3, 1: 4}': '[4, 10]',\n",
       " '{7: 0, 4: 0, 3: 1, 2: 2, 1: 6}': '[4, 11]',\n",
       " '{7: 0, 4: 0, 3: 1, 2: 1, 1: 8}': '[4, 12]',\n",
       " '{7: 0, 4: 0, 3: 2, 2: 0, 1: 6}': '[5, 5]',\n",
       " '{7: 0, 4: 0, 3: 1, 2: 0, 1: 10}': '[5, 12]',\n",
       " '{7: 0, 4: 0, 3: 2, 2: 4, 1: 0}': '[6, 6]',\n",
       " '{7: 0, 4: 0, 3: 2, 2: 3, 1: 2}': '[6, 7]',\n",
       " '{7: 0, 4: 0, 3: 2, 2: 2, 1: 4}': '[6, 8]',\n",
       " '{7: 0, 4: 0, 3: 1, 2: 5, 1: 1}': '[6, 9]',\n",
       " '{7: 0, 4: 0, 3: 1, 2: 4, 1: 3}': '[6, 10]',\n",
       " '{7: 0, 4: 0, 3: 1, 2: 3, 1: 5}': '[6, 11]',\n",
       " '{7: 0, 4: 0, 3: 1, 2: 2, 1: 7}': '[6, 12]',\n",
       " '{7: 0, 4: 0, 3: 2, 2: 1, 1: 6}': '[7, 8]',\n",
       " '{7: 0, 4: 0, 3: 1, 2: 1, 1: 9}': '[7, 12]',\n",
       " '{7: 0, 4: 0, 3: 2, 2: 0, 1: 8}': '[8, 8]',\n",
       " '{7: 0, 4: 0, 3: 1, 2: 0, 1: 11}': '[8, 12]',\n",
       " '{7: 0, 4: 0, 3: 0, 2: 6, 1: 2}': '[9, 9]',\n",
       " '{7: 0, 4: 0, 3: 0, 2: 5, 1: 4}': '[9, 10]',\n",
       " '{7: 0, 4: 0, 3: 0, 2: 4, 1: 6}': '[9, 11]',\n",
       " '{7: 0, 4: 0, 3: 0, 2: 3, 1: 8}': '[9, 12]',\n",
       " '{7: 0, 4: 0, 3: 0, 2: 2, 1: 10}': '[10, 12]',\n",
       " '{7: 0, 4: 0, 3: 0, 2: 1, 1: 12}': '[11, 12]',\n",
       " '{7: 0, 4: 0, 3: 0, 2: 0, 1: 14}': '[12, 12]'}"
      ]
     },
     "execution_count": 20,
     "metadata": {},
     "output_type": "execute_result"
    }
   ],
   "source": [
    "map_recurse(2)"
   ]
  },
  {
   "cell_type": "code",
   "execution_count": 21,
   "id": "c680c7a6",
   "metadata": {},
   "outputs": [],
   "source": [
    "map_8 = map_recurse(8)\n",
    "with open('mapped_8gpu.json', 'w') as f:\n",
    "    json.dump(map_8, f, indent=4)"
   ]
  },
  {
   "cell_type": "code",
   "execution_count": 22,
   "id": "b3460efd",
   "metadata": {},
   "outputs": [],
   "source": [
    "map_15 = map_recurse(15)\n",
    "with open('mapped_15gpu.json', 'w') as f:\n",
    "    json.dump(map_15, f, indent=4)"
   ]
  },
  {
   "cell_type": "code",
   "execution_count": 25,
   "id": "6f4e5b57",
   "metadata": {},
   "outputs": [
    {
     "data": {
      "text/plain": [
       "8217"
      ]
     },
     "execution_count": 25,
     "metadata": {},
     "output_type": "execute_result"
    }
   ],
   "source": [
    "len(map_8)"
   ]
  },
  {
   "cell_type": "code",
   "execution_count": 26,
   "id": "348600b1",
   "metadata": {},
   "outputs": [
    {
     "data": {
      "text/plain": [
       "8217"
      ]
     },
     "execution_count": 26,
     "metadata": {},
     "output_type": "execute_result"
    }
   ],
   "source": [
    "len(json_8gpu)"
   ]
  },
  {
   "cell_type": "code",
   "execution_count": null,
   "id": "662eeef4",
   "metadata": {},
   "outputs": [],
   "source": []
  }
 ],
 "metadata": {
  "kernelspec": {
   "display_name": "tf2",
   "language": "python",
   "name": "tf2"
  },
  "language_info": {
   "codemirror_mode": {
    "name": "ipython",
    "version": 3
   },
   "file_extension": ".py",
   "mimetype": "text/x-python",
   "name": "python",
   "nbconvert_exporter": "python",
   "pygments_lexer": "ipython3",
   "version": "3.7.11"
  }
 },
 "nbformat": 4,
 "nbformat_minor": 5
}
